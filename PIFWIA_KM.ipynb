{
  "cells": [
    {
      "cell_type": "markdown",
      "metadata": {
        "id": "view-in-github",
        "colab_type": "text"
      },
      "source": [
        "<a href=\"https://colab.research.google.com/github/alvarofpinheiro/pifwia_kmeans/blob/main/PIFWIA_KM.ipynb\" target=\"_parent\"><img src=\"https://colab.research.google.com/assets/colab-badge.svg\" alt=\"Open In Colab\"/></a>"
      ]
    },
    {
      "cell_type": "markdown",
      "metadata": {
        "id": "99awqmJL47Ld"
      },
      "source": [
        "O agrupamento k-means é um método de quantização vetorial, originário do processamento de sinais, que visa particionar n observações em k clusters em que cada observação pertence ao cluster com a média mais próxima (cluster centers ou cluster centroid), servindo como protótipo de o aglomerado. Isso resulta em um particionamento do espaço de dados em células Voronoi. O agrupamento k-means minimiza as variâncias dentro do cluster (distâncias quadradas euclidianas), mas não as distâncias euclidianas regulares, que seriam o problema de Weber  mais difícil: a média otimiza os erros quadrados, enquanto apenas a mediana geométrica minimiza as distâncias euclidianas. Por exemplo, melhores soluções euclidianas podem ser encontradas usando k-medianas e k-medóides.\n",
        "\n",
        "Hartigan, J. A.; Wong, M. A. Algorithm AS 136: A k-Means Clustering Algorithm. Journal of the Royal Statistical Society, Series C. 28 (1): 100–108. JSTOR 2346830. https://doi.org/10.2307/2346830, 1979."
      ]
    },
    {
      "cell_type": "code",
      "execution_count": null,
      "metadata": {
        "id": "wUqgzNJs47Ln"
      },
      "outputs": [],
      "source": [
        "#Importando bibliotecas\n",
        "import pandas as pd\n",
        "import matplotlib.pyplot as plt\n",
        "import seaborn as sns\n",
        "from sklearn.cluster import KMeans"
      ]
    },
    {
      "cell_type": "code",
      "execution_count": null,
      "metadata": {
        "id": "x80x_ihq47Lp"
      },
      "outputs": [],
      "source": [
        "#Carregando a base de dados iris\n",
        "iris = pd.read_csv(\"iris.csv\")"
      ]
    },
    {
      "cell_type": "code",
      "execution_count": null,
      "metadata": {
        "id": "3hK75vq647Lq"
      },
      "outputs": [],
      "source": [
        "#Cabeçalho do arquivo\n",
        "iris.head()"
      ]
    },
    {
      "cell_type": "code",
      "execution_count": null,
      "metadata": {
        "id": "DwPhmZLv47Ls"
      },
      "outputs": [],
      "source": [
        "from IPython.display import Image\n",
        "Image(filename =\"iris-data-set.png\", width=500, height=500)"
      ]
    },
    {
      "cell_type": "code",
      "execution_count": null,
      "metadata": {
        "id": "r_Hmqr_P47Lu"
      },
      "outputs": [],
      "source": [
        "#Separando os valores de dados e classes\n",
        "X = iris.drop('Species',axis=1)\n",
        "X[:10]"
      ]
    },
    {
      "cell_type": "code",
      "execution_count": null,
      "metadata": {
        "id": "baqMo6u247Lv"
      },
      "outputs": [],
      "source": [
        "#Exibindo as classes\n",
        "y = iris.Species\n",
        "y.unique()"
      ]
    },
    {
      "cell_type": "code",
      "execution_count": null,
      "metadata": {
        "id": "b5D8Uqv047Lw"
      },
      "outputs": [],
      "source": [
        "#Convertendo valores categórios de classe em numéricos\n",
        "def converte_classe(l):\n",
        "    if l == 'Iris-virginica':\n",
        "        return 0\n",
        "    elif l == 'Iris-setosa':\n",
        "        return 1\n",
        "    elif l == 'Iris-versicolor':\n",
        "        return 2\n",
        "\n",
        "y = y.apply(converte_classe)\n",
        "y.value_counts()"
      ]
    },
    {
      "cell_type": "code",
      "execution_count": null,
      "metadata": {
        "id": "o8vLTfDY47Ly"
      },
      "outputs": [],
      "source": [
        "#Instânciando o Algoritmo K-means com 3 clusters\n",
        "kmeans = KMeans(n_clusters = 3, init = 'random')\n",
        "kmeans.fit(X)"
      ]
    },
    {
      "cell_type": "code",
      "execution_count": null,
      "metadata": {
        "id": "dxP8zwTC47Lz"
      },
      "outputs": [],
      "source": [
        "#Centroids\n",
        "kmeans.cluster_centers_"
      ]
    },
    {
      "cell_type": "code",
      "execution_count": null,
      "metadata": {
        "id": "y8yN0gSm47Lz"
      },
      "outputs": [],
      "source": [
        "#Tabela de distância\n",
        "distance = kmeans.fit_transform(X)\n",
        "distance"
      ]
    },
    {
      "cell_type": "code",
      "execution_count": null,
      "metadata": {
        "id": "xo7znScg47L0"
      },
      "outputs": [],
      "source": [
        "#Distâncias\n",
        "distance[0]"
      ]
    },
    {
      "cell_type": "code",
      "execution_count": null,
      "metadata": {
        "id": "Z5oFfnQv47L1"
      },
      "outputs": [],
      "source": [
        "#Visualizando valores de distância para cada cluster\n",
        "%matplotlib notebook\n",
        "x = ['Cluster 0','Cluster 1','Cluster 2']\n",
        "plt.barh(x,distance[0])\n",
        "plt.xlabel('Distância')\n",
        "plt.title('Distância por Clusters ')\n",
        "plt.show()"
      ]
    },
    {
      "cell_type": "code",
      "execution_count": null,
      "metadata": {
        "scrolled": false,
        "id": "Gls5_3Fv47L1"
      },
      "outputs": [],
      "source": [
        "#Imprimindo Rótulos\n",
        "labels = kmeans.labels_\n",
        "labels"
      ]
    },
    {
      "cell_type": "code",
      "execution_count": null,
      "metadata": {
        "id": "0f0werzd47L2"
      },
      "outputs": [],
      "source": [
        "#Visualizando os Centroids\n",
        "%matplotlib notebook\n",
        "plt.figure(figsize=(8,6))\n",
        "plt.scatter(X['SepalLength'], X['SepalWidth'], s = 100, c = kmeans.labels_)\n",
        "plt.scatter(kmeans.cluster_centers_[:, 0], kmeans.cluster_centers_[:, 1], s = 300, c = 'red',label = 'Centroids')\n",
        "plt.title('Dataset Iris e Centroids')\n",
        "plt.xlabel('SepalLength')\n",
        "plt.ylabel('SepalWidth')\n",
        "plt.show()"
      ]
    },
    {
      "cell_type": "code",
      "execution_count": null,
      "metadata": {
        "id": "WSQfJ9qY47L5"
      },
      "outputs": [],
      "source": [
        "#Agrupando novos dados\n",
        "data = [\n",
        "        [ 4.12, 3.4, 1.6, 0.7],\n",
        "        [ 5.2, 5.8, 5.2, 6.7],\n",
        "        [ 3.1, 3.5, 3.3, 3.0]\n",
        "    ]\n",
        "kmeans.predict(data)"
      ]
    },
    {
      "cell_type": "code",
      "execution_count": null,
      "metadata": {
        "scrolled": false,
        "id": "Qj7RcIlZ47L5"
      },
      "outputs": [],
      "source": [
        "#Visualizando os resultados\n",
        "%matplotlib notebook\n",
        "f,(ax1, ax2) = plt.subplots(1, 2, sharey=True, figsize=(8,6))\n",
        "ax1.set_title('Original')\n",
        "ax1.scatter(X['SepalLength'], X['SepalWidth'],s=150,c=sorted(y))\n",
        "ax2.set_title('KMeans')\n",
        "ax2.scatter(X['SepalLength'], X['SepalWidth'],s=150,c=sorted(kmeans.labels_))"
      ]
    },
    {
      "cell_type": "code",
      "execution_count": null,
      "metadata": {
        "id": "1Ga9qIKI47L6"
      },
      "outputs": [],
      "source": [
        "#Estimando o valor do parametro K - Método Elbow\n",
        "%matplotlib notebook\n",
        "wcss = []\n",
        "\n",
        "for i in range(1, 11):\n",
        "    kmeans2 = KMeans(n_clusters = i, init = 'random')\n",
        "    kmeans2.fit(X)\n",
        "    print (i,kmeans2.inertia_)\n",
        "    wcss.append(kmeans2.inertia_)\n",
        "    \n",
        "plt.plot(range(1, 11), wcss)\n",
        "plt.title('O Metodo Elbow')\n",
        "plt.xlabel('Numero de Clusters')\n",
        "plt.ylabel('WSS') #within cluster sum of squares\n",
        "plt.show()"
      ]
    },
    {
      "cell_type": "code",
      "execution_count": null,
      "metadata": {
        "id": "DMGGAmRh47L7"
      },
      "outputs": [],
      "source": [
        "#Matriz de Confusão\n",
        "print (pd.crosstab(y,kmeans.labels_, rownames=['Real'], colnames=['Predito'], margins=True))"
      ]
    },
    {
      "cell_type": "code",
      "execution_count": null,
      "metadata": {
        "id": "iClQj-0M47L7"
      },
      "outputs": [],
      "source": [
        "#Metricas de classificação\n",
        "from sklearn import metrics\n",
        "clusters = ['Cluster 2','Cluster 1','Cluster 0']\n",
        "print(metrics.classification_report(y,kmeans.labels_,target_names=clusters))"
      ]
    }
  ],
  "metadata": {
    "kernelspec": {
      "display_name": "Python 3",
      "language": "python",
      "name": "python3"
    },
    "language_info": {
      "codemirror_mode": {
        "name": "ipython",
        "version": 3
      },
      "file_extension": ".py",
      "mimetype": "text/x-python",
      "name": "python",
      "nbconvert_exporter": "python",
      "pygments_lexer": "ipython3",
      "version": "3.6.5"
    },
    "colab": {
      "name": "PIFWIA_KM.ipynb",
      "provenance": [],
      "collapsed_sections": [],
      "include_colab_link": true
    }
  },
  "nbformat": 4,
  "nbformat_minor": 0
}